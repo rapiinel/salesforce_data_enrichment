{
 "cells": [
  {
   "cell_type": "markdown",
   "id": "4fe5703b",
   "metadata": {},
   "source": [
    "To do:\n",
    "\n",
    "1. 'Practice Area',\n",
    "1. 'Account Name',\n",
    "1. 'Status',\n",
    "1. 'First Name',\n",
    "1. 'Law School',\n",
    "1. 'County',\n",
    "1. 'Firm Name',\n",
    "\n",
    "done:\n",
    "1. 'Phone',\n",
    "1. 'Email',\n",
    "1. 'Website',\n",
    "1. 'Fax\n",
    "1. 'State',\n",
    "1. 'Zip',\n",
    "1. 'City',\n",
    "1. 'Street'"
   ]
  },
  {
   "cell_type": "code",
   "execution_count": 1,
   "id": "46052081",
   "metadata": {},
   "outputs": [
    {
     "name": "stderr",
     "output_type": "stream",
     "text": [
      "C:\\Users\\LMPH\\AppData\\Roaming\\Python\\Python39\\site-packages\\fuzzywuzzy\\fuzz.py:11: UserWarning: Using slow pure-python SequenceMatcher. Install python-Levenshtein to remove this warning\n",
      "  warnings.warn('Using slow pure-python SequenceMatcher. Install python-Levenshtein to remove this warning')\n"
     ]
    }
   ],
   "source": [
    "import pandas as pd\n",
    "import data_enrichment as de\n",
    "from tqdm.notebook import tqdm\n",
    "tqdm.pandas()\n",
    "import numpy as np\n",
    "\n",
    "import glob\n",
    "\n",
    "pd.options.display.max_columns = 99"
   ]
  },
  {
   "cell_type": "code",
   "execution_count": 2,
   "id": "f5caa9ed",
   "metadata": {},
   "outputs": [],
   "source": [
    "import pandas as pd\n",
    "import data_enrichment as de\n",
    "from tqdm.notebook import tqdm\n",
    "tqdm.pandas()\n",
    "\n",
    "import glob\n",
    "\n",
    "pd.options.display.max_columns = 99\n",
    "\n",
    "link = r'idaho-00001 - step 2_Match_Single Record Match_.csv'"
   ]
  },
  {
   "cell_type": "code",
   "execution_count": 3,
   "id": "e956b21f",
   "metadata": {},
   "outputs": [],
   "source": [
    "# step2 = de.DE_class(link)\n",
    "\n",
    "# #cleaning phone and fax both webscraped and matched record\n",
    "# for item in ['Phone', 'fax', 'Match_Phone']:\n",
    "#     step2.df[item] = step2.df.progress_apply(lambda x: step2.symbol_remover(x[item]), axis = 1)\n",
    "\n",
    "# step2.df['Phone - checker'] = step2.df.progress_apply(lambda x: step2.fuzzymatch(x['Phone'],x['Match_Phone']), axis = 1)\n",
    "\n",
    "# step2.df['Phone - checker'].value_counts()\n",
    "\n",
    "# step2.df[step2.df['Phone - checker'] == 91]\n",
    "\n",
    "# step13 = de.DE_class('raw/idaho-00001 - step 13_255 Match_Single Record Match_.csv')"
   ]
  },
  {
   "cell_type": "code",
   "execution_count": 4,
   "id": "6f81ac65",
   "metadata": {},
   "outputs": [
    {
     "name": "stdout",
     "output_type": "stream",
     "text": [
      "['Phone', 'Match_Phone', 'Match_Phone_2__c', 'Match_Phone_3__c', 'Match_Phone_4__c', 'Match_Phone_5__c']\n",
      "['fax', 'Match_Fax', 'Match_Fax_2__c', 'Match_Fax_3__c']\n",
      "['Email', 'Match_Email', 'Match_Email_2__c', 'Match_Email_3__c', 'Match_Verified_Email__c']\n",
      "['Web', 'Match_Web_Site_1__c', 'Match_Web_Site_2__c', 'Match_Web_Site_3__c']\n",
      "['state', 'Match_Bar_Admission_State_1__c', 'Match_Bar_Admission_State_2__c', 'Match_Bar_Admission_State_3__c', 'Match_Bar_Admission_State_4__c', 'Match_Bar_Admission_State_5__c']\n",
      "['zip', 'Match_Zip_Code_1__c', 'Match_Zip_Code_2__c', 'Match_Zip_Code_3__c']\n",
      "['street', 'Match_MailingStreet', 'Match_OtherStreet', 'Match_Street_Address_1__c', 'Match_Street_Address_2__c', 'Match_Street_Address_3__c']\n",
      "['city', 'Match_City_1__c', 'Match_City_2__c', 'Match_City_3__c']\n"
     ]
    }
   ],
   "source": [
    "step13 = de.DE_class('raw/idaho-00001 - step 2_Match_Single Record Match_.csv')"
   ]
  },
  {
   "cell_type": "code",
   "execution_count": 5,
   "id": "dc446748",
   "metadata": {},
   "outputs": [],
   "source": [
    "dict = {}\n",
    "for x in step13.df.loc[:, [x for x in step13.df.columns if 'Found in SF' in x]]:\n",
    "    dict[x.replace(' - cleaned Found in SF', \" for update\")] = (step13.df[x] == False).sum()\n",
    "#     break"
   ]
  },
  {
   "cell_type": "code",
   "execution_count": 6,
   "id": "0c12a68a",
   "metadata": {
    "scrolled": true
   },
   "outputs": [
    {
     "data": {
      "text/plain": [
       "{'Phone for update': 3,\n",
       " 'fax for update': 55,\n",
       " 'Email Found in SF': 110,\n",
       " 'Web Found in SF': 110,\n",
       " 'state Found in SF': 110,\n",
       " 'zip for update': 110,\n",
       " 'street Found in SF': 110,\n",
       " 'city Found in SF': 110}"
      ]
     },
     "execution_count": 6,
     "metadata": {},
     "output_type": "execute_result"
    }
   ],
   "source": [
    "dict"
   ]
  },
  {
   "cell_type": "code",
   "execution_count": 7,
   "id": "b0e8dbd2",
   "metadata": {},
   "outputs": [],
   "source": [
    "test = step13.df[[x for x in step13.df.columns if 'web' in x.lower()]]\n",
    "# step13.get_vacant_field( Phone = step13.phone_variable_list) #{\"Phone\":[step13.phone_variable_list]}"
   ]
  },
  {
   "cell_type": "code",
   "execution_count": 8,
   "id": "1d312be4",
   "metadata": {},
   "outputs": [],
   "source": [
    "key_guide = {'Phone - Vacant Field':'Phone', 'Fax - Vacant Field':'fax', 'Email - Vacant Field':'Email',\n",
    " 'Web - Vacant Field':'Web', 'State - Vacant Field':'state', 'zip - Vacant Field':'zip', 'Street - Vacant Field':'street',\n",
    " 'City - Vacant Field':'city'}"
   ]
  },
  {
   "cell_type": "code",
   "execution_count": 9,
   "id": "7e681dad",
   "metadata": {},
   "outputs": [
    {
     "name": "stdout",
     "output_type": "stream",
     "text": [
      "['Match_Id', 'First and Last', 'First Name', 'Last Name', 'suffix', 'status', 'Phone', 'phoneExt', 'fax', 'Web', 'street', 'city', 'state', 'zip', 'Email', 'Bar Admission Date', 'Bar State', 'Phone - cleaned Found in SF', 'fax - cleaned Found in SF', 'Email Found in SF', 'Web Found in SF', 'state Found in SF', 'zip - cleaned Found in SF', 'street Found in SF', 'city Found in SF', 'Phone - Vacant Field', 'Fax - Vacant Field', 'Email - Vacant Field', 'Web - Vacant Field', 'State - Vacant Field', 'zip - Vacant Field', 'Street - Vacant Field', 'City - Vacant Field']\n",
      "index: 0 |  column: Phone - Vacant Field |  found in sf: Phone - cleaned Found in SF\n",
      "index: 1 |  column: Fax - Vacant Field |  found in sf: fax - cleaned Found in SF\n",
      "index: 2 |  column: Email - Vacant Field |  found in sf: Email Found in SF\n",
      "index: 3 |  column: Web - Vacant Field |  found in sf: Web Found in SF\n",
      "index: 4 |  column: State - Vacant Field |  found in sf: state Found in SF\n",
      "index: 5 |  column: zip - Vacant Field |  found in sf: zip - cleaned Found in SF\n",
      "index: 6 |  column: Street - Vacant Field |  found in sf: street Found in SF\n",
      "index: 7 |  column: City - Vacant Field |  found in sf: city Found in SF\n"
     ]
    }
   ],
   "source": [
    "step13.get_output(key_guide)"
   ]
  },
  {
   "cell_type": "code",
   "execution_count": 10,
   "id": "2e784078",
   "metadata": {},
   "outputs": [
    {
     "data": {
      "text/plain": [
       "[]"
      ]
     },
     "execution_count": 10,
     "metadata": {},
     "output_type": "execute_result"
    }
   ],
   "source": [
    "[x for x in step13.df.columns if 'acountid' in x.lower()]"
   ]
  },
  {
   "cell_type": "code",
   "execution_count": 11,
   "id": "66d795f4",
   "metadata": {},
   "outputs": [
    {
     "data": {
      "text/plain": [
       "Index(['First and Last', 'First Name', 'Last Name', 'suffix', 'status',\n",
       "       'Phone', 'phoneExt', 'fax', 'Web', 'street',\n",
       "       ...\n",
       "       'street Found in SF', 'city Found in SF', 'Phone - Vacant Field',\n",
       "       'Fax - Vacant Field', 'Email - Vacant Field', 'Web - Vacant Field',\n",
       "       'State - Vacant Field', 'zip - Vacant Field', 'Street - Vacant Field',\n",
       "       'City - Vacant Field'],\n",
       "      dtype='object', length=181)"
      ]
     },
     "execution_count": 11,
     "metadata": {},
     "output_type": "execute_result"
    }
   ],
   "source": [
    "step13.df.columns"
   ]
  },
  {
   "cell_type": "code",
   "execution_count": 13,
   "id": "3ff2adca",
   "metadata": {},
   "outputs": [],
   "source": [
    "temp_list = []\n",
    "for index, x in enumerate(step13.found_in_sf_columns):\n",
    "    # print(step13.vacant_field_columns[index])\n",
    "    def get_filter(index):\n",
    "        column_filter = step13.vacant_field_columns[index]\n",
    "        column_filter = [x for x in step13.output[column_filter].value_counts().index]\n",
    "        column_filter.extend([ 'Match_Id']) #'Match_AccountId',\n",
    "        return column_filter\n",
    "    column_filter = get_filter(index)\n",
    "    temp_df = step13.output.loc[step13.output[x] == False, column_filter]\n",
    "    temp_list.append(temp_df)\n",
    "\n",
    "final_df = pd.concat(temp_list, axis = 0)"
   ]
  },
  {
   "cell_type": "code",
   "execution_count": 14,
   "id": "2fb6e584",
   "metadata": {},
   "outputs": [
    {
     "data": {
      "text/html": [
       "<div>\n",
       "<style scoped>\n",
       "    .dataframe tbody tr th:only-of-type {\n",
       "        vertical-align: middle;\n",
       "    }\n",
       "\n",
       "    .dataframe tbody tr th {\n",
       "        vertical-align: top;\n",
       "    }\n",
       "\n",
       "    .dataframe thead th {\n",
       "        text-align: right;\n",
       "    }\n",
       "</style>\n",
       "<table border=\"1\" class=\"dataframe\">\n",
       "  <thead>\n",
       "    <tr style=\"text-align: right;\">\n",
       "      <th></th>\n",
       "      <th>Match_Phone_2__c</th>\n",
       "      <th>Match_Id</th>\n",
       "      <th>Match_Fax</th>\n",
       "      <th>Match_Fax_2__c</th>\n",
       "      <th>Match_Email</th>\n",
       "      <th>Match_Web_Site_1__c</th>\n",
       "      <th>Match_Bar_Admission_State_1__c</th>\n",
       "      <th>Match_Zip_Code_1__c</th>\n",
       "      <th>Match_MailingStreet</th>\n",
       "      <th>Match_City_1__c</th>\n",
       "    </tr>\n",
       "  </thead>\n",
       "  <tbody>\n",
       "    <tr>\n",
       "      <th>24</th>\n",
       "      <td>(208) 882-0588</td>\n",
       "      <td>0013000000CcGc5AAF</td>\n",
       "      <td>NaN</td>\n",
       "      <td>NaN</td>\n",
       "      <td>NaN</td>\n",
       "      <td>NaN</td>\n",
       "      <td>NaN</td>\n",
       "      <td>NaN</td>\n",
       "      <td>NaN</td>\n",
       "      <td>NaN</td>\n",
       "    </tr>\n",
       "    <tr>\n",
       "      <th>43</th>\n",
       "      <td>(208) 615-5335</td>\n",
       "      <td>0010e00001QRoYKAA1</td>\n",
       "      <td>NaN</td>\n",
       "      <td>NaN</td>\n",
       "      <td>NaN</td>\n",
       "      <td>NaN</td>\n",
       "      <td>NaN</td>\n",
       "      <td>NaN</td>\n",
       "      <td>NaN</td>\n",
       "      <td>NaN</td>\n",
       "    </tr>\n",
       "    <tr>\n",
       "      <th>104</th>\n",
       "      <td>(208) 746-7541</td>\n",
       "      <td>0010e00001OCwdWAAT</td>\n",
       "      <td>NaN</td>\n",
       "      <td>NaN</td>\n",
       "      <td>NaN</td>\n",
       "      <td>NaN</td>\n",
       "      <td>NaN</td>\n",
       "      <td>NaN</td>\n",
       "      <td>NaN</td>\n",
       "      <td>NaN</td>\n",
       "    </tr>\n",
       "    <tr>\n",
       "      <th>1</th>\n",
       "      <td>NaN</td>\n",
       "      <td>0010e00001QRoSKAA1</td>\n",
       "      <td>(208) 426-0608</td>\n",
       "      <td>NaN</td>\n",
       "      <td>NaN</td>\n",
       "      <td>NaN</td>\n",
       "      <td>NaN</td>\n",
       "      <td>NaN</td>\n",
       "      <td>NaN</td>\n",
       "      <td>NaN</td>\n",
       "    </tr>\n",
       "    <tr>\n",
       "      <th>2</th>\n",
       "      <td>NaN</td>\n",
       "      <td>0013000000CcM1SAAV</td>\n",
       "      <td>(208) 232-0150</td>\n",
       "      <td>NaN</td>\n",
       "      <td>NaN</td>\n",
       "      <td>NaN</td>\n",
       "      <td>NaN</td>\n",
       "      <td>NaN</td>\n",
       "      <td>NaN</td>\n",
       "      <td>NaN</td>\n",
       "    </tr>\n",
       "    <tr>\n",
       "      <th>...</th>\n",
       "      <td>...</td>\n",
       "      <td>...</td>\n",
       "      <td>...</td>\n",
       "      <td>...</td>\n",
       "      <td>...</td>\n",
       "      <td>...</td>\n",
       "      <td>...</td>\n",
       "      <td>...</td>\n",
       "      <td>...</td>\n",
       "      <td>...</td>\n",
       "    </tr>\n",
       "    <tr>\n",
       "      <th>105</th>\n",
       "      <td>NaN</td>\n",
       "      <td>0014y000026cFUyAAM</td>\n",
       "      <td>NaN</td>\n",
       "      <td>NaN</td>\n",
       "      <td>NaN</td>\n",
       "      <td>NaN</td>\n",
       "      <td>NaN</td>\n",
       "      <td>NaN</td>\n",
       "      <td>NaN</td>\n",
       "      <td>Coeur d'Alene</td>\n",
       "    </tr>\n",
       "    <tr>\n",
       "      <th>106</th>\n",
       "      <td>NaN</td>\n",
       "      <td>0014y000026cFVJAA2</td>\n",
       "      <td>NaN</td>\n",
       "      <td>NaN</td>\n",
       "      <td>NaN</td>\n",
       "      <td>NaN</td>\n",
       "      <td>NaN</td>\n",
       "      <td>NaN</td>\n",
       "      <td>NaN</td>\n",
       "      <td>Boise</td>\n",
       "    </tr>\n",
       "    <tr>\n",
       "      <th>107</th>\n",
       "      <td>NaN</td>\n",
       "      <td>0014y000026cFVLAA2</td>\n",
       "      <td>NaN</td>\n",
       "      <td>NaN</td>\n",
       "      <td>NaN</td>\n",
       "      <td>NaN</td>\n",
       "      <td>NaN</td>\n",
       "      <td>NaN</td>\n",
       "      <td>NaN</td>\n",
       "      <td>Coeur d'Alene</td>\n",
       "    </tr>\n",
       "    <tr>\n",
       "      <th>108</th>\n",
       "      <td>NaN</td>\n",
       "      <td>0014y000026cFVwAAM</td>\n",
       "      <td>NaN</td>\n",
       "      <td>NaN</td>\n",
       "      <td>NaN</td>\n",
       "      <td>NaN</td>\n",
       "      <td>NaN</td>\n",
       "      <td>NaN</td>\n",
       "      <td>NaN</td>\n",
       "      <td>Jackson</td>\n",
       "    </tr>\n",
       "    <tr>\n",
       "      <th>109</th>\n",
       "      <td>NaN</td>\n",
       "      <td>0014y000026cFVzAAM</td>\n",
       "      <td>NaN</td>\n",
       "      <td>NaN</td>\n",
       "      <td>NaN</td>\n",
       "      <td>NaN</td>\n",
       "      <td>NaN</td>\n",
       "      <td>NaN</td>\n",
       "      <td>NaN</td>\n",
       "      <td>Athol</td>\n",
       "    </tr>\n",
       "  </tbody>\n",
       "</table>\n",
       "<p>718 rows × 10 columns</p>\n",
       "</div>"
      ],
      "text/plain": [
       "    Match_Phone_2__c            Match_Id       Match_Fax Match_Fax_2__c  \\\n",
       "24    (208) 882-0588  0013000000CcGc5AAF             NaN            NaN   \n",
       "43    (208) 615-5335  0010e00001QRoYKAA1             NaN            NaN   \n",
       "104   (208) 746-7541  0010e00001OCwdWAAT             NaN            NaN   \n",
       "1                NaN  0010e00001QRoSKAA1  (208) 426-0608            NaN   \n",
       "2                NaN  0013000000CcM1SAAV  (208) 232-0150            NaN   \n",
       "..               ...                 ...             ...            ...   \n",
       "105              NaN  0014y000026cFUyAAM             NaN            NaN   \n",
       "106              NaN  0014y000026cFVJAA2             NaN            NaN   \n",
       "107              NaN  0014y000026cFVLAA2             NaN            NaN   \n",
       "108              NaN  0014y000026cFVwAAM             NaN            NaN   \n",
       "109              NaN  0014y000026cFVzAAM             NaN            NaN   \n",
       "\n",
       "    Match_Email Match_Web_Site_1__c Match_Bar_Admission_State_1__c  \\\n",
       "24          NaN                 NaN                            NaN   \n",
       "43          NaN                 NaN                            NaN   \n",
       "104         NaN                 NaN                            NaN   \n",
       "1           NaN                 NaN                            NaN   \n",
       "2           NaN                 NaN                            NaN   \n",
       "..          ...                 ...                            ...   \n",
       "105         NaN                 NaN                            NaN   \n",
       "106         NaN                 NaN                            NaN   \n",
       "107         NaN                 NaN                            NaN   \n",
       "108         NaN                 NaN                            NaN   \n",
       "109         NaN                 NaN                            NaN   \n",
       "\n",
       "    Match_Zip_Code_1__c Match_MailingStreet Match_City_1__c  \n",
       "24                  NaN                 NaN             NaN  \n",
       "43                  NaN                 NaN             NaN  \n",
       "104                 NaN                 NaN             NaN  \n",
       "1                   NaN                 NaN             NaN  \n",
       "2                   NaN                 NaN             NaN  \n",
       "..                  ...                 ...             ...  \n",
       "105                 NaN                 NaN   Coeur d'Alene  \n",
       "106                 NaN                 NaN           Boise  \n",
       "107                 NaN                 NaN   Coeur d'Alene  \n",
       "108                 NaN                 NaN         Jackson  \n",
       "109                 NaN                 NaN           Athol  \n",
       "\n",
       "[718 rows x 10 columns]"
      ]
     },
     "execution_count": 14,
     "metadata": {},
     "output_type": "execute_result"
    }
   ],
   "source": [
    "final_df"
   ]
  },
  {
   "cell_type": "code",
   "execution_count": null,
   "id": "6741bb6f",
   "metadata": {},
   "outputs": [],
   "source": []
  },
  {
   "cell_type": "code",
   "execution_count": null,
   "id": "c724ae3e",
   "metadata": {},
   "outputs": [],
   "source": []
  }
 ],
 "metadata": {
  "hide_input": false,
  "interpreter": {
   "hash": "11938c6bc6919ae2720b4d5011047913343b08a43b18698fd82dedb0d4417594"
  },
  "kernelspec": {
   "display_name": "Python 3.9.13 64-bit",
   "language": "python",
   "name": "python3"
  },
  "language_info": {
   "codemirror_mode": {
    "name": "ipython",
    "version": 3
   },
   "file_extension": ".py",
   "mimetype": "text/x-python",
   "name": "python",
   "nbconvert_exporter": "python",
   "pygments_lexer": "ipython3",
   "version": "3.9.13"
  }
 },
 "nbformat": 4,
 "nbformat_minor": 5
}
